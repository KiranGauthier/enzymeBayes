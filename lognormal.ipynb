{
 "cells": [
  {
   "cell_type": "code",
   "execution_count": 1,
   "metadata": {},
   "outputs": [],
   "source": [
    "import numpy as np\n",
    "import matplotlib.pyplot as plt \n",
    "import seaborn as sns\n",
    "import pymc3 as pm\n",
    "\n",
    "%matplotlib inline  \n"
   ]
  },
  {
   "cell_type": "code",
   "execution_count": 2,
   "metadata": {},
   "outputs": [],
   "source": [
    "my_model = pm.Model()\n",
    "import theano.tensor as tt\n",
    "with my_model:\n",
    "    pm.Lognormal('hmm', mu = 0, sigma = 1)\n",
    "    pm.Lognormal('hmm2', mu = 1, sigma = 1)\n",
    "    pm.Lognormal('hmm3', mu = 2, sigma = 1)\n",
    "\n",
    "\n",
    "    priorchecks = pm.sample_prior_predictive(samples = 50000)"
   ]
  },
  {
   "cell_type": "code",
   "execution_count": 3,
   "metadata": {},
   "outputs": [
    {
     "data": {
      "text/plain": [
       "<matplotlib.legend.Legend at 0x7fc57a242710>"
      ]
     },
     "execution_count": 3,
     "metadata": {},
     "output_type": "execute_result"
    },
    {
     "data": {
      "image/png": "[encoded data removed]",
      "text/plain": [
       "<Figure size 432x288 with 1 Axes>"
      ]
     },
     "metadata": {
      "needs_background": "light"
     },
     "output_type": "display_data"
    }
   ],
   "source": [
    "import seaborn as sns\n",
    "sns.distplot(priorchecks[\"hmm\"],bins=np.logspace(-3,3,51),kde=False,label=\"mu=0\")\n",
    "sns.distplot(priorchecks[\"hmm2\"],bins=np.logspace(-3,3,51),kde=False,label=\"mu=1\")\n",
    "sns.distplot(priorchecks[\"hmm3\"],bins=np.logspace(-3,3,51),kde=False,label=\"mu=2\")\n",
    "\n",
    "plt.semilogx([])\n",
    "plt.axvline(np.exp(0),color=\"C0\")\n",
    "plt.axvline(np.exp(1),color=\"C1\")\n",
    "plt.axvline(np.exp(2),color=\"C2\")\n",
    "\n",
    "plt.legend()"
   ]
  },
  {
   "cell_type": "code",
   "execution_count": 4,
   "metadata": {},
   "outputs": [],
   "source": [
    "my_model = pm.Model()\n",
    "import theano.tensor as tt\n",
    "with my_model:\n",
    "    pm.Lognormal('hmm', mu = 0, sigma = 1)\n",
    "    pm.Lognormal('hmm2', mu = 0, sigma = 2)\n",
    "    pm.Lognormal('hmm3', mu = 0, sigma = 3)\n",
    "\n",
    "\n",
    "    priorchecks = pm.sample_prior_predictive(samples = 50000)"
   ]
  },
  {
   "cell_type": "code",
   "execution_count": 5,
   "metadata": {},
   "outputs": [
    {
     "data": {
      "text/plain": [
       "<matplotlib.legend.Legend at 0x7fc5710fc810>"
      ]
     },
     "execution_count": 5,
     "metadata": {},
     "output_type": "execute_result"
    },
    {
     "data": {
      "image/png": "[encoded data removed]",
      "text/plain": [
       "<Figure size 432x288 with 1 Axes>"
      ]
     },
     "metadata": {
      "needs_background": "light"
     },
     "output_type": "display_data"
    }
   ],
   "source": [
    "import seaborn as sns\n",
    "sns.distplot(priorchecks[\"hmm\"],bins=np.logspace(-3,3,51),kde=False,label=\"sd=1\")\n",
    "sns.distplot(priorchecks[\"hmm2\"],bins=np.logspace(-3,3,51),kde=False,label=\"sd=2\")\n",
    "sns.distplot(priorchecks[\"hmm3\"],bins=np.logspace(-3,3,51),kde=False,label=\"sd=3\")\n",
    "\n",
    "plt.semilogx([])\n",
    "#plt.axvline(np.exp(-1))\n",
    "plt.axvline(np.exp(1),color=\"C0\")\n",
    "plt.axvline(np.exp(2),color=\"C1\")\n",
    "plt.axvline(np.exp(3),color=\"C2\")\n",
    "plt.axvline(np.exp(-1),color=\"C0\")\n",
    "plt.axvline(np.exp(-2),color=\"C1\")\n",
    "plt.axvline(np.exp(-3),color=\"C2\")\n",
    "plt.legend()"
   ]
  },
  {
   "cell_type": "code",
   "execution_count": null,
   "metadata": {},
   "outputs": [],
   "source": []
  }
 ],
 "metadata": {
  "kernelspec": {
   "display_name": "Python 3",
   "language": "python",
   "name": "python3"
  },
  "language_info": {
   "codemirror_mode": {
    "name": "ipython",
    "version": 3
   },
   "file_extension": ".py",
   "mimetype": "text/x-python",
   "name": "python",
   "nbconvert_exporter": "python",
   "pygments_lexer": "ipython3",
   "version": "3.7.5"
  }
 },
 "nbformat": 4,
 "nbformat_minor": 2
}
